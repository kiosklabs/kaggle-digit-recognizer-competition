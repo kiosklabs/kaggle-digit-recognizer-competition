{
 "cells": [
  {
   "cell_type": "markdown",
   "metadata": {},
   "source": [
    "For our first attempt, we will be using random forest classifier to fit our classifer to the training data."
   ]
  },
  {
   "cell_type": "code",
   "execution_count": 2,
   "metadata": {
    "collapsed": false
   },
   "outputs": [],
   "source": [
    "from sklearn.ensemble import RandomForestClassifier\n",
    "import numpy as np\n",
    "import pandas as pd\n",
    "\n",
    "training_data = pd.read_csv(\"data/digit-train.csv\")\n",
    "test_data = pd.read_csv(\"data/digit-test.csv\").values\n",
    "\n",
    "target = training_data[[0]].values.ravel()\n",
    "train = training_data.iloc[:,1:].values\n",
    "test = pd.read_csv(\"data/digit-test.csv\").values\n",
    "\n",
    "# rf = RandomForestClassifier(n_estimators=100)\n",
    "# rf.fit(train, target)\n",
    "# pred = rf.predict(test)\n",
    "\n",
    "#np.savetxt('data/kaggle-digit-classifier-2016-07-27.csv', np.c_[range(1,len(test)+1),pred], delimiter=',', header = 'ImageId,Label', comments = '', fmt='%d')"
   ]
  },
  {
   "cell_type": "markdown",
   "metadata": {},
   "source": [
    "After submitting this in kaggle, the accuracy gives us around 0.96 which is the entry level. This is similar to the accuracy of the example in the scikit-learn documentation using Support Vector Classification (http://scikit-learn.org/stable/auto_examples/classification/plot_digits_classification.html)\n",
    "\n",
    "However, as we can see in the MNIST page (http://yann.lecun.com/exdb/mnist/), convolutional neural networks would yield the most accurate prediction with a test error rate that ranges from 1.7 to 0.23, compared to neural nets (4.7-0.35) and SVMs (1.4 -0.56)\n",
    "\n",
    "Let's identify first the data, then plot it to get a glimpse of the actual image, so that we can prepare the needed layers for the neural network."
   ]
  },
  {
   "cell_type": "code",
   "execution_count": 2,
   "metadata": {
    "collapsed": false
   },
   "outputs": [
    {
     "name": "stdout",
     "output_type": "stream",
     "text": [
      "   label  pixel0  pixel1  pixel2  pixel3  pixel4  pixel5  pixel6  pixel7  \\\n",
      "0      1       0       0       0       0       0       0       0       0   \n",
      "1      0       0       0       0       0       0       0       0       0   \n",
      "2      1       0       0       0       0       0       0       0       0   \n",
      "3      4       0       0       0       0       0       0       0       0   \n",
      "4      0       0       0       0       0       0       0       0       0   \n",
      "\n",
      "   pixel8    ...     pixel774  pixel775  pixel776  pixel777  pixel778  \\\n",
      "0       0    ...            0         0         0         0         0   \n",
      "1       0    ...            0         0         0         0         0   \n",
      "2       0    ...            0         0         0         0         0   \n",
      "3       0    ...            0         0         0         0         0   \n",
      "4       0    ...            0         0         0         0         0   \n",
      "\n",
      "   pixel779  pixel780  pixel781  pixel782  pixel783  \n",
      "0         0         0         0         0         0  \n",
      "1         0         0         0         0         0  \n",
      "2         0         0         0         0         0  \n",
      "3         0         0         0         0         0  \n",
      "4         0         0         0         0         0  \n",
      "\n",
      "[5 rows x 785 columns]\n"
     ]
    }
   ],
   "source": [
    "print(training_data.head())"
   ]
  },
  {
   "cell_type": "code",
   "execution_count": 3,
   "metadata": {
    "collapsed": true
   },
   "outputs": [],
   "source": [
    "target = target.astype(np.uint8)\n",
    "train = np.array(train).reshape((-1, 1, 28, 28)).astype(np.uint8)\n",
    "test = np.array(test).reshape((-1, 1, 28, 28)).astype(np.uint8)"
   ]
  },
  {
   "cell_type": "markdown",
   "metadata": {},
   "source": [
    "This allows us to re-evaluate (reshape) and transform our training data which has 784 columns of pixel data into a 28 x 28 grids. We'll be using matplotlib to graph this data."
   ]
  },
  {
   "cell_type": "code",
   "execution_count": 3,
   "metadata": {
    "collapsed": true
   },
   "outputs": [],
   "source": [
    "%matplotlib inline"
   ]
  },
  {
   "cell_type": "code",
   "execution_count": 4,
   "metadata": {
    "collapsed": false
   },
   "outputs": [
    {
     "data": {
      "text/plain": [
       "<matplotlib.image.AxesImage at 0x7f75edd99550>"
      ]
     },
     "execution_count": 4,
     "metadata": {},
     "output_type": "execute_result"
    },
    {
     "data": {
      "image/png": "[encoded data removed]",
      "text/plain": [
       "<matplotlib.figure.Figure at 0x7f75ede71890>"
      ]
     },
     "metadata": {},
     "output_type": "display_data"
    }
   ],
   "source": [
    "import matplotlib.pyplot as plt\n",
    "import matplotlib.cm as cm\n",
    "\n",
    "plt.imshow(train[1729][0], cmap=cm.binary)"
   ]
  },
  {
   "cell_type": "markdown",
   "metadata": {},
   "source": [
    "We will be using nolearn to build our convolutional neural network. Nolearn is based on the lasagne library, which allows us to build neural networks.\n",
    "\n",
    "Lasagne and Nolearn can be installed by using pip:\n",
    "- pip install -r https://raw.githubusercontent.com/Lasagne/Lasagne/master/requirements.txt\n",
    "\n",
    "- pip install -r https://raw.githubusercontent.com/dnouri/nolearn/master/requirements.txt"
   ]
  },
  {
   "cell_type": "code",
   "execution_count": 4,
   "metadata": {
    "collapsed": false
   },
   "outputs": [
    {
     "name": "stderr",
     "output_type": "stream",
     "text": [
      "ERROR (theano.sandbox.cuda): nvcc compiler not found on $PATH. Check your nvcc installation and try again.\n",
      "/home/rogue/venv/lib/python2.7/site-packages/theano/tensor/signal/downsample.py:6: UserWarning: downsample module has been moved to the theano.tensor.signal.pool module.\n",
      "  \"downsample module has been moved to the theano.tensor.signal.pool module.\")\n"
     ]
    }
   ],
   "source": [
    "import lasagne\n",
    "from lasagne import layers\n",
    "from lasagne.updates import nesterov_momentum\n",
    "from nolearn.lasagne import NeuralNet\n",
    "from nolearn.lasagne import visualize"
   ]
  },
  {
   "cell_type": "markdown",
   "metadata": {},
   "source": [
    "Next, we define a new neural network that will train the data."
   ]
  },
  {
   "cell_type": "code",
   "execution_count": 7,
   "metadata": {
    "collapsed": true
   },
   "outputs": [],
   "source": [
    "training_net = NeuralNet(\n",
    "    layers=[('input', layers.InputLayer),\n",
    "            ('hidden', layers.DenseLayer),\n",
    "            ('output', layers.DenseLayer),\n",
    "    ],\n",
    "\n",
    "    input_shape=(None,1,28,28), #input layer\n",
    "    hidden_num_units=1000, #hidden layer\n",
    "    output_nonlinearity=lasagne.nonlinearities.softmax, #softmax\n",
    "    output_num_units=10, #target values\n",
    "\n",
    "    # optimization method:\n",
    "    update=nesterov_momentum,\n",
    "    update_learning_rate=0.0001,\n",
    "    update_momentum=0.9,\n",
    "    max_epochs=15,\n",
    "    verbose=1,\n",
    "    )"
   ]
  },
  {
   "cell_type": "code",
   "execution_count": 8,
   "metadata": {
    "collapsed": false
   },
   "outputs": [
    {
     "name": "stdout",
     "output_type": "stream",
     "text": [
      "# Neural Network with 795010 learnable parameters\n",
      "\n",
      "## Layer information\n",
      "\n",
      "  #  name    size\n",
      "---  ------  -------\n",
      "  0  input   1x28x28\n",
      "  1  hidden  1000\n",
      "  2  output  10\n",
      "\n",
      "  epoch    trn loss    val loss    trn/val    valid acc  dur\n",
      "-------  ----------  ----------  ---------  -----------  -----\n",
      "      1     \u001b[36m7.68098\u001b[0m     \u001b[32m1.72164\u001b[0m    4.46144      0.93171  4.62s\n",
      "      2     \u001b[36m0.97681\u001b[0m     \u001b[32m1.23092\u001b[0m    0.79356      0.94004  5.60s\n",
      "      3     \u001b[36m0.43377\u001b[0m     \u001b[32m1.01726\u001b[0m    0.42641      0.94301  7.08s\n",
      "      4     \u001b[36m0.21471\u001b[0m     \u001b[32m0.95614\u001b[0m    0.22456      0.94491  6.90s\n",
      "      5     \u001b[36m0.10507\u001b[0m     \u001b[32m0.92802\u001b[0m    0.11322      0.94801  6.17s\n",
      "      6     \u001b[36m0.05272\u001b[0m     0.93469    0.05640      0.94777  6.70s\n",
      "      7     \u001b[36m0.02530\u001b[0m     \u001b[32m0.91683\u001b[0m    0.02759      0.94694  6.68s\n",
      "      8     \u001b[36m0.01284\u001b[0m     \u001b[32m0.88810\u001b[0m    0.01446      0.94955  7.02s\n",
      "      9     \u001b[36m0.00666\u001b[0m     \u001b[32m0.83722\u001b[0m    0.00796      0.95062  7.48s\n",
      "     10     \u001b[36m0.00347\u001b[0m     \u001b[32m0.83106\u001b[0m    0.00417      0.95074  6.97s\n",
      "     11     \u001b[36m0.00166\u001b[0m     0.83551    0.00199      0.95062  7.00s\n",
      "     12     \u001b[36m0.00048\u001b[0m     \u001b[32m0.82915\u001b[0m    0.00058      0.95158  6.41s\n",
      "     13     \u001b[36m0.00013\u001b[0m     0.82985    0.00016      0.95098  6.61s\n",
      "     14     \u001b[36m0.00007\u001b[0m     0.83040    0.00009      0.95110  6.67s\n",
      "     15     \u001b[36m0.00006\u001b[0m     0.83011    0.00007      0.95098  7.36s\n"
     ]
    },
    {
     "data": {
      "text/plain": [
       "NeuralNet(X_tensor_type=None,\n",
       "     batch_iterator_test=<nolearn.lasagne.base.BatchIterator object at 0x7f14ff78a590>,\n",
       "     batch_iterator_train=<nolearn.lasagne.base.BatchIterator object at 0x7f14ff78a450>,\n",
       "     check_input=True, custom_scores=None, hidden_num_units=1000,\n",
       "     input_shape=(None, 1, 28, 28),\n",
       "     layers=[('input', <class 'lasagne.layers.input.InputLayer'>), ('hidden', <class 'lasagne.layers.dense.DenseLayer'>), ('output', <class 'lasagne.layers.dense.DenseLayer'>)],\n",
       "     loss=None, max_epochs=15, more_params={},\n",
       "     objective=<function objective at 0x7f14ff7932a8>,\n",
       "     objective_loss_function=<function categorical_crossentropy at 0x7f14ff8b96e0>,\n",
       "     on_batch_finished=[],\n",
       "     on_epoch_finished=[<nolearn.lasagne.handlers.PrintLog instance at 0x7f14ff7b9680>],\n",
       "     on_training_finished=[],\n",
       "     on_training_started=[<nolearn.lasagne.handlers.PrintLayerInfo instance at 0x7f14ff7b96c8>],\n",
       "     output_nonlinearity=<function softmax at 0x7f1503bf3c80>,\n",
       "     output_num_units=10, regression=False, scores_train=[],\n",
       "     scores_valid=[],\n",
       "     train_split=<nolearn.lasagne.base.TrainSplit object at 0x7f14ff78a610>,\n",
       "     update=<function nesterov_momentum at 0x7f14ff8c3050>,\n",
       "     update_learning_rate=0.0001, update_momentum=0.9,\n",
       "     use_label_encoder=False, verbose=1,\n",
       "     y_tensor_type=TensorType(int32, vector))"
      ]
     },
     "execution_count": 8,
     "metadata": {},
     "output_type": "execute_result"
    }
   ],
   "source": [
    "training_net.fit(train, target)"
   ]
  },
  {
   "cell_type": "markdown",
   "metadata": {
    "collapsed": true
   },
   "source": [
    "Implementing the neural network above gives us 0.95 accuracy. Although a bit lesser than our random classifier, this is still quite good by itself. \n",
    "\n",
    "Next, we'll be implementing convolutional neural network.\n",
    "\n",
    "A convolutional neural network (CNN) refers to a type of neural network which uses the convolution operator (often the 2D convolution when it is used for image processing tasks) to extract features from the data. In image processing, filters, that are convoluted with images, are learned automatically to solve the task at hand, e.g. a classification task.\n",
    "\n",
    "In our case, we will be using two convolutional layers (filtering), and one pooling layer."
   ]
  },
  {
   "cell_type": "code",
   "execution_count": 8,
   "metadata": {
    "collapsed": false
   },
   "outputs": [
    {
     "name": "stdout",
     "output_type": "stream",
     "text": [
      "# Neural Network with 443428 learnable parameters\n",
      "\n",
      "## Layer information\n",
      "\n",
      "  #  name     size\n",
      "---  -------  --------\n",
      "  0  input    1x28x28\n",
      "  1  conv1    7x26x26\n",
      "  2  pool1    7x13x13\n",
      "  3  conv2    12x12x12\n",
      "  4  pool2    12x6x6\n",
      "  5  hidden3  1000\n",
      "  6  output   10\n",
      "\n",
      "  epoch    trn loss    val loss    trn/val    valid acc  dur\n",
      "-------  ----------  ----------  ---------  -----------  ------\n",
      "      1     \u001b[36m1.68334\u001b[0m     \u001b[32m0.43249\u001b[0m    3.89217      0.86639  24.80s\n",
      "      2     \u001b[36m0.34214\u001b[0m     \u001b[32m0.29701\u001b[0m    1.15195      0.90886  27.64s\n"
     ]
    }
   ],
   "source": [
    "def CNN(n_epochs):\n",
    "    net1 = NeuralNet(\n",
    "        layers=[\n",
    "            ('input', layers.InputLayer),\n",
    "            ('conv1', layers.Conv2DLayer),\n",
    "            ('pool1', layers.MaxPool2DLayer),\n",
    "            ('conv2', layers.Conv2DLayer),\n",
    "            ('pool2', layers.MaxPool2DLayer),\n",
    "            ('hidden3', layers.DenseLayer),\n",
    "            ('output', layers.DenseLayer),\n",
    "        ],\n",
    "        input_shape=( None , 1, 28, 28),\n",
    "        conv1_num_filters=7,\n",
    "        conv1_filter_size=(3, 3),\n",
    "        conv1_nonlinearity=lasagne.nonlinearities.rectify,\n",
    "        pool1_pool_size=(2, 2),\n",
    "        conv2_num_filters=12,\n",
    "        conv2_filter_size=(2, 2),\n",
    "        conv2_nonlinearity=lasagne.nonlinearities.rectify,\n",
    "        pool2_pool_size=(2, 2),\n",
    "        hidden3_num_units=1000,\n",
    "        output_num_units=10,\n",
    "        output_nonlinearity=lasagne.nonlinearities.softmax,\n",
    "        update_learning_rate=0.0001,\n",
    "        update_momentum=0.9,\n",
    "        max_epochs=n_epochs,\n",
    "        verbose=1,\n",
    "        )\n",
    "    return net1\n",
    "cnn = CNN(2).fit(train,target)"
   ]
  },
  {
   "cell_type": "markdown",
   "metadata": {},
   "source": [
    "As can be seen, as the epoch increases, the accuracy increases until it tapers off at the maximum value. While the accuracy in 5 epochs arguably is not as high as that of our random classifier, we should note that as the amount of training data that we have increases our accuracy for CNN does as well. The main problem that we have with it later on would be overfitting."
   ]
  },
  {
   "cell_type": "code",
   "execution_count": 6,
   "metadata": {
    "collapsed": false
   },
   "outputs": [
    {
     "name": "stdout",
     "output_type": "stream",
     "text": [
      "# Neural Network with 160362 learnable parameters\n",
      "\n",
      "## Layer information\n",
      "\n",
      "  #  name      size\n",
      "---  --------  --------\n",
      "  0  input     1x28x28\n",
      "  1  conv1     32x24x24\n",
      "  2  pool1     32x12x12\n",
      "  3  conv2     32x8x8\n",
      "  4  pool2     32x4x4\n",
      "  5  dense     256\n",
      "  6  dropout2  256\n",
      "  7  output    10\n",
      "\n",
      "  epoch    trn loss    val loss    trn/val    valid acc  dur\n",
      "-------  ----------  ----------  ---------  -----------  -------\n",
      "      1     \u001b[36m2.39802\u001b[0m     \u001b[32m0.36396\u001b[0m    6.58869      0.89233  194.38s\n",
      "      2     \u001b[36m0.42242\u001b[0m     \u001b[32m0.21683\u001b[0m    1.94816      0.93135  206.07s\n",
      "      3     \u001b[36m0.29762\u001b[0m     \u001b[32m0.16559\u001b[0m    1.79728      0.94729  203.16s\n",
      "      4     \u001b[36m0.24954\u001b[0m     \u001b[32m0.15434\u001b[0m    1.61687      0.94955  212.40s\n",
      "      5     \u001b[36m0.22071\u001b[0m     \u001b[32m0.13913\u001b[0m    1.58635      0.95467  205.69s\n",
      "      6     \u001b[36m0.19884\u001b[0m     \u001b[32m0.12322\u001b[0m    1.61367      0.96062  200.09s\n",
      "      7     \u001b[36m0.18463\u001b[0m     \u001b[32m0.12016\u001b[0m    1.53650      0.95979  205.61s\n",
      "      8     \u001b[36m0.17093\u001b[0m     \u001b[32m0.11670\u001b[0m    1.46467      0.96252  208.19s\n",
      "      9     \u001b[36m0.15950\u001b[0m     \u001b[32m0.11063\u001b[0m    1.44174      0.96395  197.47s\n",
      "     10     \u001b[36m0.15099\u001b[0m     \u001b[32m0.10684\u001b[0m    1.41327      0.96538  204.32s\n",
      "     11     \u001b[36m0.14283\u001b[0m     0.10902    1.31017      0.96395  206.91s\n",
      "     12     \u001b[36m0.13888\u001b[0m     \u001b[32m0.09614\u001b[0m    1.44453      0.96883  214.54s\n",
      "     13     \u001b[36m0.12921\u001b[0m     0.09715    1.32999      0.96681  228.74s\n"
     ]
    }
   ],
   "source": [
    "def CNN2(n_epochs):\n",
    "    net2 = NeuralNet(\n",
    "            layers=[\n",
    "            ('input', layers.InputLayer),\n",
    "            ('conv1', layers.Conv2DLayer),\n",
    "            ('pool1', layers.MaxPool2DLayer),\n",
    "            ('conv2', layers.Conv2DLayer),\n",
    "            ('pool2', layers.MaxPool2DLayer),\n",
    "            ('dense', layers.DenseLayer),                \n",
    "            ('dropout2', layers.DropoutLayer),\n",
    "            ('output', layers.DenseLayer),\n",
    "        ],\n",
    "        input_shape=( None , 1, 28, 28),\n",
    "        conv1_num_filters=32,\n",
    "        conv1_filter_size=(5, 5),\n",
    "        conv1_nonlinearity=lasagne.nonlinearities.rectify,\n",
    "        conv1_W=lasagne.init.GlorotUniform(),\n",
    "        pool1_pool_size=(2, 2),\n",
    "        conv2_num_filters=32,\n",
    "        conv2_filter_size=(5, 5),\n",
    "        conv2_nonlinearity=lasagne.nonlinearities.rectify,\n",
    "        pool2_pool_size=(2, 2),\n",
    "        dense_num_units=256,\n",
    "        dense_nonlinearity=lasagne.nonlinearities.rectify,\n",
    "        dropout2_p=0.5,\n",
    "        output_nonlinearity=lasagne.nonlinearities.softmax,\n",
    "        output_num_units=10,\n",
    "        update=nesterov_momentum,\n",
    "        update_learning_rate=0.001,\n",
    "        update_momentum=0.9,\n",
    "        max_epochs=n_epochs,\n",
    "        verbose=1\n",
    "        )\n",
    "    return net2\n",
    "# Train the network\n",
    "cnn2 = CNN2(15).fit(train, target)"
   ]
  },
  {
   "cell_type": "code",
   "execution_count": null,
   "metadata": {
    "collapsed": true
   },
   "outputs": [],
   "source": []
  },
  {
   "cell_type": "code",
   "execution_count": null,
   "metadata": {
    "collapsed": true
   },
   "outputs": [],
   "source": []
  }
 ],
 "metadata": {
  "kernelspec": {
   "display_name": "Python [Root]",
   "language": "python",
   "name": "Python [Root]"
  },
  "language_info": {
   "codemirror_mode": {
    "name": "ipython",
    "version": 2
   },
   "file_extension": ".py",
   "mimetype": "text/x-python",
   "name": "python",
   "nbconvert_exporter": "python",
   "pygments_lexer": "ipython2",
   "version": "2.7.12"
  }
 },
 "nbformat": 4,
 "nbformat_minor": 0
}
